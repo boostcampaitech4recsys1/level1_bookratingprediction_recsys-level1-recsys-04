{
 "cells": [
  {
   "cell_type": "code",
   "execution_count": 1,
   "metadata": {},
   "outputs": [
    {
     "name": "stdout",
     "output_type": "stream",
     "text": [
      "users shape:  (68092, 3)\n",
      "Index(['user_id', 'age', 'country'], dtype='object')\n",
      "books shape:  (149570, 9)\n",
      "Index(['isbn', 'book_title', 'book_author', 'year_of_publication', 'publisher',\n",
      "       'language', 'category', 'summary', 'high_category'],\n",
      "      dtype='object')\n",
      "train shape:  (306795, 3)\n",
      "Index(['user_id', 'isbn', 'rating'], dtype='object')\n"
     ]
    }
   ],
   "source": [
    "import pandas as pd\n",
    "import numpy as np\n",
    "import seaborn as sns\n",
    "import matplotlib.pyplot as plt\n",
    "import os\n",
    "import re\n",
    "path = './data/'\n",
    "p1= pd.read_csv(path+'users.csv')\n",
    "p2= pd.read_csv(path+'books.csv')\n",
    "p3= pd.read_csv(path+'train_ratings.csv')\n",
    "p4= pd.read_csv(path+'sample_submission.csv')\n",
    "p5= pd.read_csv(path+'test_ratings.csv') # test와 sample은 완벽하게 동일하다.\n",
    "\n",
    "#조금 전처리됨\n",
    "p6= pd.read_csv('/opt/ml/input/code/users_fillna.csv')\n",
    "p7= pd.read_csv('/opt/ml/input/code/books_fillna_cate.csv') \n",
    "p8= pd.read_csv('/opt/ml/input/code/books_lang.csv') \n",
    "\n",
    "users  =p6.copy()\n",
    "books  =p7.copy()\n",
    "train  =p3.copy()\n",
    "sample =p4.copy()\n",
    "test   =p5.copy()\n",
    "\n",
    "boks =p8.copy()\n",
    "\n",
    "print('users shape: ', users.shape) \n",
    "print(users.columns)#유저id, 지역, 나이\n",
    "print('books shape: ', books.shape)\n",
    "print(books.columns)#isbn(책번호), 제목, 저자, 출판년도, 출판사, img주소, 언어, 범주, 요약, img경로\n",
    "print('train shape: ', train.shape) \n",
    "print(train.columns)# 유저 id, 책isbn, 평점"
   ]
  },
  {
   "cell_type": "markdown",
   "metadata": {},
   "source": [
    "# 출판사 건드리기"
   ]
  },
  {
   "cell_type": "code",
   "execution_count": 2,
   "metadata": {},
   "outputs": [
    {
     "data": {
      "text/plain": [
       "harlequin                   3006\n",
       "ballantine books            2322\n",
       "pocket                      2274\n",
       "penguin books               1943\n",
       "bantam books                1938\n",
       "                            ... \n",
       "pamoon press                   1\n",
       "wilhelm goldmann               1\n",
       "circustuff                     1\n",
       "mermaid books                  1\n",
       "american map corporation       1\n",
       "Name: publisher, Length: 11428, dtype: int64"
      ]
     },
     "execution_count": 2,
     "metadata": {},
     "output_type": "execute_result"
    }
   ],
   "source": [
    "books['publisher'] = books['publisher'].str.lower()\n",
    "books['ublisher'] = books['publisher'].copy()\n",
    "books['publisher'].value_counts()\n",
    "#출판사가 10000개나 있나? 미쿡이라 그럴 수도 있나 싶지만, 그래도 정제를 해주면 좋을 것 같다. \n",
    "# books[books['isbn'].str.startswith('0143')]#['publisher']"
   ]
  },
  {
   "cell_type": "code",
   "execution_count": 3,
   "metadata": {},
   "outputs": [
    {
     "data": {
      "text/html": [
       "<div>\n",
       "<style scoped>\n",
       "    .dataframe tbody tr th:only-of-type {\n",
       "        vertical-align: middle;\n",
       "    }\n",
       "\n",
       "    .dataframe tbody tr th {\n",
       "        vertical-align: top;\n",
       "    }\n",
       "\n",
       "    .dataframe thead th {\n",
       "        text-align: right;\n",
       "    }\n",
       "</style>\n",
       "<table border=\"1\" class=\"dataframe\">\n",
       "  <thead>\n",
       "    <tr style=\"text-align: right;\">\n",
       "      <th></th>\n",
       "      <th>isbn</th>\n",
       "      <th>book_title</th>\n",
       "      <th>book_author</th>\n",
       "      <th>year_of_publication</th>\n",
       "      <th>publisher</th>\n",
       "      <th>language</th>\n",
       "      <th>category</th>\n",
       "      <th>summary</th>\n",
       "      <th>high_category</th>\n",
       "      <th>ublisher</th>\n",
       "    </tr>\n",
       "  </thead>\n",
       "  <tbody>\n",
       "    <tr>\n",
       "      <th>331</th>\n",
       "      <td>0373030959</td>\n",
       "      <td>Unfriendly Proposition (Harlequin Romance, No ...</td>\n",
       "      <td>Jessica Steele</td>\n",
       "      <td>1990.0</td>\n",
       "      <td>harlequin</td>\n",
       "      <td>NaN</td>\n",
       "      <td>1</td>\n",
       "      <td>NaN</td>\n",
       "      <td>psychology</td>\n",
       "      <td>harlequin</td>\n",
       "    </tr>\n",
       "    <tr>\n",
       "      <th>332</th>\n",
       "      <td>0373031106</td>\n",
       "      <td>Fair Trial (Harlequin Romance, No 3110)</td>\n",
       "      <td>Elizabeth Duke</td>\n",
       "      <td>1991.0</td>\n",
       "      <td>harlequin</td>\n",
       "      <td>en</td>\n",
       "      <td>fiction</td>\n",
       "      <td>Fair Trial by Elizabeth Duke released on Jan 2...</td>\n",
       "      <td>fiction</td>\n",
       "      <td>harlequin</td>\n",
       "    </tr>\n",
       "    <tr>\n",
       "      <th>333</th>\n",
       "      <td>0373033605</td>\n",
       "      <td>Brief Encounter (Sealed With A Kiss) (Harlequi...</td>\n",
       "      <td>Catherine George</td>\n",
       "      <td>1995.0</td>\n",
       "      <td>harlequin</td>\n",
       "      <td>NaN</td>\n",
       "      <td>1</td>\n",
       "      <td>NaN</td>\n",
       "      <td>cook</td>\n",
       "      <td>harlequin</td>\n",
       "    </tr>\n",
       "    <tr>\n",
       "      <th>334</th>\n",
       "      <td>0373033923</td>\n",
       "      <td>Husband Material (Holding Out For A Hero) (Har...</td>\n",
       "      <td>Emma Goldrick</td>\n",
       "      <td>1995.0</td>\n",
       "      <td>harlequin</td>\n",
       "      <td>en</td>\n",
       "      <td>fiction</td>\n",
       "      <td>Husband Material by Emma Goldrick released on ...</td>\n",
       "      <td>fiction</td>\n",
       "      <td>harlequin</td>\n",
       "    </tr>\n",
       "    <tr>\n",
       "      <th>335</th>\n",
       "      <td>0373162669</td>\n",
       "      <td>Always A Bridesmaid (Harlequin American Romanc...</td>\n",
       "      <td>Julie Kistler</td>\n",
       "      <td>1988.0</td>\n",
       "      <td>harlequin</td>\n",
       "      <td>en</td>\n",
       "      <td>fiction</td>\n",
       "      <td>Always A Bridesmaid by Julie Kistler released ...</td>\n",
       "      <td>fiction</td>\n",
       "      <td>harlequin</td>\n",
       "    </tr>\n",
       "    <tr>\n",
       "      <th>...</th>\n",
       "      <td>...</td>\n",
       "      <td>...</td>\n",
       "      <td>...</td>\n",
       "      <td>...</td>\n",
       "      <td>...</td>\n",
       "      <td>...</td>\n",
       "      <td>...</td>\n",
       "      <td>...</td>\n",
       "      <td>...</td>\n",
       "      <td>...</td>\n",
       "    </tr>\n",
       "    <tr>\n",
       "      <th>148562</th>\n",
       "      <td>0373220960</td>\n",
       "      <td>Into The Night (Harlequin Intrigue No. 96)</td>\n",
       "      <td>Jan Michaels</td>\n",
       "      <td>1988.0</td>\n",
       "      <td>harlequin</td>\n",
       "      <td>en</td>\n",
       "      <td>1</td>\n",
       "      <td>Into The Night by Jan Michaels released on Jun...</td>\n",
       "      <td>juvenile</td>\n",
       "      <td>harlequin</td>\n",
       "    </tr>\n",
       "    <tr>\n",
       "      <th>148676</th>\n",
       "      <td>0373805438</td>\n",
       "      <td>Solution:  Seduction</td>\n",
       "      <td>Elizabeth Oldfield</td>\n",
       "      <td>2003.0</td>\n",
       "      <td>harlequin</td>\n",
       "      <td>NaN</td>\n",
       "      <td>1</td>\n",
       "      <td>NaN</td>\n",
       "      <td>fiction</td>\n",
       "      <td>harlequin</td>\n",
       "    </tr>\n",
       "    <tr>\n",
       "      <th>148838</th>\n",
       "      <td>0373117868</td>\n",
       "      <td>Dark Apollo (Top Author) (Harlequin Presents, ...</td>\n",
       "      <td>Sara Craven</td>\n",
       "      <td>1995.0</td>\n",
       "      <td>harlequin</td>\n",
       "      <td>en</td>\n",
       "      <td>fiction</td>\n",
       "      <td>Dark Apollo by Sara Craven released on Nov 24,...</td>\n",
       "      <td>fiction</td>\n",
       "      <td>harlequin</td>\n",
       "    </tr>\n",
       "    <tr>\n",
       "      <th>149448</th>\n",
       "      <td>0373152604</td>\n",
       "      <td>Once Bitten, Twice Shy : Love's Sting; The Wed...</td>\n",
       "      <td>Catherine Spencer</td>\n",
       "      <td>1996.0</td>\n",
       "      <td>harlequin books</td>\n",
       "      <td>NaN</td>\n",
       "      <td>1</td>\n",
       "      <td>NaN</td>\n",
       "      <td>fiction</td>\n",
       "      <td>harlequin books</td>\n",
       "    </tr>\n",
       "    <tr>\n",
       "      <th>149524</th>\n",
       "      <td>037383375X</td>\n",
       "      <td>Passionate Relationship</td>\n",
       "      <td>David P. Jordan</td>\n",
       "      <td>1999.0</td>\n",
       "      <td>harlequin</td>\n",
       "      <td>NaN</td>\n",
       "      <td>1</td>\n",
       "      <td>NaN</td>\n",
       "      <td>psychology</td>\n",
       "      <td>harlequin</td>\n",
       "    </tr>\n",
       "  </tbody>\n",
       "</table>\n",
       "<p>3279 rows × 10 columns</p>\n",
       "</div>"
      ],
      "text/plain": [
       "              isbn                                         book_title  \\\n",
       "331     0373030959  Unfriendly Proposition (Harlequin Romance, No ...   \n",
       "332     0373031106            Fair Trial (Harlequin Romance, No 3110)   \n",
       "333     0373033605  Brief Encounter (Sealed With A Kiss) (Harlequi...   \n",
       "334     0373033923  Husband Material (Holding Out For A Hero) (Har...   \n",
       "335     0373162669  Always A Bridesmaid (Harlequin American Romanc...   \n",
       "...            ...                                                ...   \n",
       "148562  0373220960         Into The Night (Harlequin Intrigue No. 96)   \n",
       "148676  0373805438                               Solution:  Seduction   \n",
       "148838  0373117868  Dark Apollo (Top Author) (Harlequin Presents, ...   \n",
       "149448  0373152604  Once Bitten, Twice Shy : Love's Sting; The Wed...   \n",
       "149524  037383375X                            Passionate Relationship   \n",
       "\n",
       "               book_author  year_of_publication        publisher language  \\\n",
       "331         Jessica Steele               1990.0        harlequin      NaN   \n",
       "332         Elizabeth Duke               1991.0        harlequin       en   \n",
       "333       Catherine George               1995.0        harlequin      NaN   \n",
       "334          Emma Goldrick               1995.0        harlequin       en   \n",
       "335          Julie Kistler               1988.0        harlequin       en   \n",
       "...                    ...                  ...              ...      ...   \n",
       "148562        Jan Michaels               1988.0        harlequin       en   \n",
       "148676  Elizabeth Oldfield               2003.0        harlequin      NaN   \n",
       "148838         Sara Craven               1995.0        harlequin       en   \n",
       "149448   Catherine Spencer               1996.0  harlequin books      NaN   \n",
       "149524     David P. Jordan               1999.0        harlequin      NaN   \n",
       "\n",
       "       category                                            summary  \\\n",
       "331           1                                                NaN   \n",
       "332     fiction  Fair Trial by Elizabeth Duke released on Jan 2...   \n",
       "333           1                                                NaN   \n",
       "334     fiction  Husband Material by Emma Goldrick released on ...   \n",
       "335     fiction  Always A Bridesmaid by Julie Kistler released ...   \n",
       "...         ...                                                ...   \n",
       "148562        1  Into The Night by Jan Michaels released on Jun...   \n",
       "148676        1                                                NaN   \n",
       "148838  fiction  Dark Apollo by Sara Craven released on Nov 24,...   \n",
       "149448        1                                                NaN   \n",
       "149524        1                                                NaN   \n",
       "\n",
       "       high_category         ublisher  \n",
       "331       psychology        harlequin  \n",
       "332          fiction        harlequin  \n",
       "333             cook        harlequin  \n",
       "334          fiction        harlequin  \n",
       "335          fiction        harlequin  \n",
       "...              ...              ...  \n",
       "148562      juvenile        harlequin  \n",
       "148676       fiction        harlequin  \n",
       "148838       fiction        harlequin  \n",
       "149448       fiction  harlequin books  \n",
       "149524    psychology        harlequin  \n",
       "\n",
       "[3279 rows x 10 columns]"
      ]
     },
     "execution_count": 3,
     "metadata": {},
     "output_type": "execute_result"
    }
   ],
   "source": [
    "# books[books['isbn'].str.startswith('0143')]#['publisher']\n",
    "books[books['publisher'].str.contains('quin') \\\n",
    "\t& (books['publisher'] != 'Harlequin')\n",
    "\t]#['publisher']\n"
   ]
  },
  {
   "cell_type": "code",
   "execution_count": 23,
   "metadata": {},
   "outputs": [
    {
     "data": {
      "text/plain": [
       "array(['Silhouette', 'Harlequin', 'Harlequin Books', 'harlequin',\n",
       "       'Worldwide Library', 'Red Dress Ink', 'Steeple Hill',\n",
       "       'Silhouette Books', 'Harlequin Enterprises Limited',\n",
       "       'World Wide Publications', 'Gold Eagle', 'Pocket Books',\n",
       "       'Harlequin Mills & Boon Ltd', 'Thorndike Pr', 'Luna',\n",
       "       'Harlequin Sales Corp', 'Worldwide Mystery', 'Mills and Boon',\n",
       "       'Harlequin Sales Corp (Mm)', 'Worldwide', 'HQN Books',\n",
       "       'Gale Group', 'Thorndike Press', 'Harlequin Romance'], dtype=object)"
      ]
     },
     "execution_count": 23,
     "metadata": {},
     "output_type": "execute_result"
    }
   ],
   "source": [
    "books[books['isbn'].str.startswith('0373')]['publisher'].unique()\n",
    "#이 중에서 harlequin이 3000개 가까이 되고 나머지는 5000개였으니 2000개 중 일부가 이상한 이름으로 떠돌고 있다. \n",
    "#그래도 4자리로 한번 묶어볼까?"
   ]
  },
  {
   "cell_type": "code",
   "execution_count": 2,
   "metadata": {},
   "outputs": [
    {
     "data": {
      "text/plain": [
       "array(['Harlequin', 'Ballantine Books', 'Pocket', ..., 'Guild Publishing',\n",
       "       'Andre Deutsch', 'Peppermind'], dtype=object)"
      ]
     },
     "execution_count": 2,
     "metadata": {},
     "output_type": "execute_result"
    }
   ],
   "source": [
    "from tqdm import tqdm\n",
    "publisher_dict=(books['publisher'].value_counts()).to_dict()\n",
    "publisher_count_df= pd.DataFrame(list(publisher_dict.items()),columns = ['publisher','count'])\n",
    "\n",
    "publisher_count_df = publisher_count_df.sort_values(by=['count'], ascending = False)\n",
    "modify_list = publisher_count_df[publisher_count_df['count']>1].publisher.values\n",
    "\n",
    "modify_list"
   ]
  },
  {
   "cell_type": "code",
   "execution_count": 3,
   "metadata": {},
   "outputs": [
    {
     "name": "stderr",
     "output_type": "stream",
     "text": [
      "100%|██████████| 5276/5276 [03:20<00:00, 26.34it/s]\n"
     ]
    }
   ],
   "source": [
    "for publisher in tqdm(modify_list):\n",
    "\ttry:\n",
    "\t\tnumber = books[books['publisher']==publisher]['isbn'].apply(lambda x: x[:4]).value_counts().index[0]\n",
    "\t\tright_publisher = books[books['isbn'].apply(lambda x: x[:4])==number]['publisher'].value_counts().index[0]\n",
    "\t\tbooks.loc[books[books['isbn'].apply(lambda x: x[:4])==number].index,'publisher'] = right_publisher\n",
    "\texcept:\n",
    "\t\tpass"
   ]
  },
  {
   "cell_type": "code",
   "execution_count": 5,
   "metadata": {},
   "outputs": [
    {
     "data": {
      "text/plain": [
       "harlequin                   3006\n",
       "ballantine books            2322\n",
       "pocket                      2274\n",
       "penguin books               1943\n",
       "bantam books                1938\n",
       "                            ... \n",
       "pamoon press                   1\n",
       "wilhelm goldmann               1\n",
       "circustuff                     1\n",
       "mermaid books                  1\n",
       "american map corporation       1\n",
       "Name: ublisher, Length: 11428, dtype: int64"
      ]
     },
     "execution_count": 5,
     "metadata": {},
     "output_type": "execute_result"
    }
   ],
   "source": [
    "books['ublisher'].value_counts()\n"
   ]
  },
  {
   "cell_type": "code",
   "execution_count": 20,
   "metadata": {},
   "outputs": [
    {
     "data": {
      "text/plain": [
       "hodder headline australia         7\n",
       "brunnen-verlag, gieã?â?en         7\n",
       "bodley head                       7\n",
       "nymphenburger                     7\n",
       "university of notre dame press    7\n",
       "                                 ..\n",
       "pearson education                 1\n",
       "luso brazilian books              1\n",
       "kluwer academic pub               1\n",
       "nihon geijutsu shuppansha         1\n",
       "information                       1\n",
       "Name: publisher, Length: 818, dtype: int64"
      ]
     },
     "execution_count": 20,
     "metadata": {},
     "output_type": "execute_result"
    }
   ],
   "source": [
    "books['publisher'].value_counts()[700:]"
   ]
  },
  {
   "cell_type": "code",
   "execution_count": 39,
   "metadata": {},
   "outputs": [
    {
     "data": {
      "text/plain": [
       "array(['Penguin Books', 'Puffin Books', 'Penguin Books Ltd'], dtype=object)"
      ]
     },
     "execution_count": 39,
     "metadata": {},
     "output_type": "execute_result"
    }
   ],
   "source": [
    "books[books['isbn'].str.startswith('014')]['publisher'].unique()"
   ]
  },
  {
   "cell_type": "code",
   "execution_count": 153,
   "metadata": {},
   "outputs": [
    {
     "data": {
      "text/plain": [
       "pocket                  7306\n",
       "bantam                  7177\n",
       "harlequin               5317\n",
       "harpercollins           5043\n",
       "st. martin's press      4043\n",
       "                        ... \n",
       "kiepenheuer                1\n",
       "pearson education          1\n",
       "luso brazilian books       1\n",
       "kluwer academic pub        1\n",
       "information                1\n",
       "Name: publisher, Length: 1497, dtype: int64"
      ]
     },
     "execution_count": 153,
     "metadata": {},
     "output_type": "execute_result"
    }
   ],
   "source": [
    "books['publisher'].value_counts()"
   ]
  },
  {
   "cell_type": "code",
   "execution_count": 152,
   "metadata": {},
   "outputs": [
    {
     "data": {
      "text/html": [
       "<div>\n",
       "<style scoped>\n",
       "    .dataframe tbody tr th:only-of-type {\n",
       "        vertical-align: middle;\n",
       "    }\n",
       "\n",
       "    .dataframe tbody tr th {\n",
       "        vertical-align: top;\n",
       "    }\n",
       "\n",
       "    .dataframe thead th {\n",
       "        text-align: right;\n",
       "    }\n",
       "</style>\n",
       "<table border=\"1\" class=\"dataframe\">\n",
       "  <thead>\n",
       "    <tr style=\"text-align: right;\">\n",
       "      <th></th>\n",
       "      <th>isbn</th>\n",
       "      <th>book_title</th>\n",
       "      <th>book_author</th>\n",
       "      <th>year_of_publication</th>\n",
       "      <th>publisher</th>\n",
       "      <th>language</th>\n",
       "      <th>category</th>\n",
       "      <th>summary</th>\n",
       "      <th>high_category</th>\n",
       "      <th>ublisher</th>\n",
       "    </tr>\n",
       "  </thead>\n",
       "  <tbody>\n",
       "    <tr>\n",
       "      <th>502</th>\n",
       "      <td>1565041992</td>\n",
       "      <td>The Day I Swapped My Dad for 2 Goldfish</td>\n",
       "      <td>Neil Gaiman</td>\n",
       "      <td>1998.0</td>\n",
       "      <td>o'reilly</td>\n",
       "      <td>NaN</td>\n",
       "      <td>1</td>\n",
       "      <td>NaN</td>\n",
       "      <td>humor</td>\n",
       "      <td>white wolf games studio</td>\n",
       "    </tr>\n",
       "    <tr>\n",
       "      <th>2872</th>\n",
       "      <td>1565115228</td>\n",
       "      <td>Pretty Good Joke Book: A Prairie Home Companio...</td>\n",
       "      <td>Garrison Keillor</td>\n",
       "      <td>2001.0</td>\n",
       "      <td>o'reilly</td>\n",
       "      <td>NaN</td>\n",
       "      <td>1</td>\n",
       "      <td>NaN</td>\n",
       "      <td>children</td>\n",
       "      <td>highbridge audio</td>\n",
       "    </tr>\n",
       "    <tr>\n",
       "      <th>2873</th>\n",
       "      <td>1565122798</td>\n",
       "      <td>Educating Esme: Diary of a Teacher's First Year</td>\n",
       "      <td>Esme Raji Codell</td>\n",
       "      <td>2001.0</td>\n",
       "      <td>o'reilly</td>\n",
       "      <td>en</td>\n",
       "      <td>biography autobiography</td>\n",
       "      <td>A must-read for parents, new teachers, and cla...</td>\n",
       "      <td>biography</td>\n",
       "      <td>algonquin books of chapel hill</td>\n",
       "    </tr>\n",
       "    <tr>\n",
       "      <th>2874</th>\n",
       "      <td>1565840968</td>\n",
       "      <td>\\I Won't Learn from You\\\": And Other Thoughts ...</td>\n",
       "      <td>Herbert Kohl</td>\n",
       "      <td>1995.0</td>\n",
       "      <td>o'reilly</td>\n",
       "      <td>en</td>\n",
       "      <td>education</td>\n",
       "      <td>A collection of essays explore the educator&amp;#3...</td>\n",
       "      <td>education</td>\n",
       "      <td>new press</td>\n",
       "    </tr>\n",
       "    <tr>\n",
       "      <th>3001</th>\n",
       "      <td>1565842103</td>\n",
       "      <td>A Queer Reader</td>\n",
       "      <td>Patrick Higgins</td>\n",
       "      <td>1994.0</td>\n",
       "      <td>o'reilly</td>\n",
       "      <td>en</td>\n",
       "      <td>social science</td>\n",
       "      <td>A Queer Reader is a rich collection of quotes ...</td>\n",
       "      <td>science</td>\n",
       "      <td>new press</td>\n",
       "    </tr>\n",
       "    <tr>\n",
       "      <th>...</th>\n",
       "      <td>...</td>\n",
       "      <td>...</td>\n",
       "      <td>...</td>\n",
       "      <td>...</td>\n",
       "      <td>...</td>\n",
       "      <td>...</td>\n",
       "      <td>...</td>\n",
       "      <td>...</td>\n",
       "      <td>...</td>\n",
       "      <td>...</td>\n",
       "    </tr>\n",
       "    <tr>\n",
       "      <th>148807</th>\n",
       "      <td>1565297768</td>\n",
       "      <td>MS-DOS 6.2 QuickStart</td>\n",
       "      <td>Steve Konicki</td>\n",
       "      <td>1994.0</td>\n",
       "      <td>o'reilly</td>\n",
       "      <td>NaN</td>\n",
       "      <td>1</td>\n",
       "      <td>NaN</td>\n",
       "      <td>juvenile</td>\n",
       "      <td>que</td>\n",
       "    </tr>\n",
       "    <tr>\n",
       "      <th>148808</th>\n",
       "      <td>1565298667</td>\n",
       "      <td>Windows QuickStart, 3.11 edition</td>\n",
       "      <td>Ron Person</td>\n",
       "      <td>1994.0</td>\n",
       "      <td>o'reilly</td>\n",
       "      <td>NaN</td>\n",
       "      <td>1</td>\n",
       "      <td>NaN</td>\n",
       "      <td>death</td>\n",
       "      <td>que</td>\n",
       "    </tr>\n",
       "    <tr>\n",
       "      <th>148826</th>\n",
       "      <td>1565847172</td>\n",
       "      <td>Jews for Buchanan: Did You Hear the One About ...</td>\n",
       "      <td>John Nichols</td>\n",
       "      <td>2001.0</td>\n",
       "      <td>o'reilly</td>\n",
       "      <td>NaN</td>\n",
       "      <td>1</td>\n",
       "      <td>NaN</td>\n",
       "      <td>others</td>\n",
       "      <td>new press</td>\n",
       "    </tr>\n",
       "    <tr>\n",
       "      <th>149220</th>\n",
       "      <td>1565844424</td>\n",
       "      <td>Pig Tales: A Novel of Lust and Transformation ...</td>\n",
       "      <td>Marie Darrieussecq</td>\n",
       "      <td>1998.0</td>\n",
       "      <td>o'reilly</td>\n",
       "      <td>en</td>\n",
       "      <td>fiction</td>\n",
       "      <td>A young woman who lands a position at a beauty...</td>\n",
       "      <td>fiction</td>\n",
       "      <td>new press</td>\n",
       "    </tr>\n",
       "    <tr>\n",
       "      <th>149494</th>\n",
       "      <td>1565611489</td>\n",
       "      <td>Hear What You'Ve Been Missing: How to Cope Wit...</td>\n",
       "      <td>Donna S. Wayner</td>\n",
       "      <td>1998.0</td>\n",
       "      <td>o'reilly</td>\n",
       "      <td>en</td>\n",
       "      <td>deafness</td>\n",
       "      <td>In Coping with Hearing Loss, audiologist Donna...</td>\n",
       "      <td>others</td>\n",
       "      <td>chronimed publishing</td>\n",
       "    </tr>\n",
       "  </tbody>\n",
       "</table>\n",
       "<p>569 rows × 10 columns</p>\n",
       "</div>"
      ],
      "text/plain": [
       "              isbn                                         book_title  \\\n",
       "502     1565041992            The Day I Swapped My Dad for 2 Goldfish   \n",
       "2872    1565115228  Pretty Good Joke Book: A Prairie Home Companio...   \n",
       "2873    1565122798    Educating Esme: Diary of a Teacher's First Year   \n",
       "2874    1565840968  \\I Won't Learn from You\\\": And Other Thoughts ...   \n",
       "3001    1565842103                                     A Queer Reader   \n",
       "...            ...                                                ...   \n",
       "148807  1565297768                              MS-DOS 6.2 QuickStart   \n",
       "148808  1565298667                   Windows QuickStart, 3.11 edition   \n",
       "148826  1565847172  Jews for Buchanan: Did You Hear the One About ...   \n",
       "149220  1565844424  Pig Tales: A Novel of Lust and Transformation ...   \n",
       "149494  1565611489  Hear What You'Ve Been Missing: How to Cope Wit...   \n",
       "\n",
       "               book_author  year_of_publication publisher language  \\\n",
       "502            Neil Gaiman               1998.0  o'reilly      NaN   \n",
       "2872      Garrison Keillor               2001.0  o'reilly      NaN   \n",
       "2873      Esme Raji Codell               2001.0  o'reilly       en   \n",
       "2874          Herbert Kohl               1995.0  o'reilly       en   \n",
       "3001       Patrick Higgins               1994.0  o'reilly       en   \n",
       "...                    ...                  ...       ...      ...   \n",
       "148807       Steve Konicki               1994.0  o'reilly      NaN   \n",
       "148808          Ron Person               1994.0  o'reilly      NaN   \n",
       "148826        John Nichols               2001.0  o'reilly      NaN   \n",
       "149220  Marie Darrieussecq               1998.0  o'reilly       en   \n",
       "149494     Donna S. Wayner               1998.0  o'reilly       en   \n",
       "\n",
       "                       category  \\\n",
       "502                           1   \n",
       "2872                          1   \n",
       "2873    biography autobiography   \n",
       "2874                  education   \n",
       "3001             social science   \n",
       "...                         ...   \n",
       "148807                        1   \n",
       "148808                        1   \n",
       "148826                        1   \n",
       "149220                  fiction   \n",
       "149494                 deafness   \n",
       "\n",
       "                                                  summary high_category  \\\n",
       "502                                                   NaN         humor   \n",
       "2872                                                  NaN      children   \n",
       "2873    A must-read for parents, new teachers, and cla...     biography   \n",
       "2874    A collection of essays explore the educator&#3...     education   \n",
       "3001    A Queer Reader is a rich collection of quotes ...       science   \n",
       "...                                                   ...           ...   \n",
       "148807                                                NaN      juvenile   \n",
       "148808                                                NaN         death   \n",
       "148826                                                NaN        others   \n",
       "149220  A young woman who lands a position at a beauty...       fiction   \n",
       "149494  In Coping with Hearing Loss, audiologist Donna...        others   \n",
       "\n",
       "                              ublisher  \n",
       "502            white wolf games studio  \n",
       "2872                  highbridge audio  \n",
       "2873    algonquin books of chapel hill  \n",
       "2874                         new press  \n",
       "3001                         new press  \n",
       "...                                ...  \n",
       "148807                             que  \n",
       "148808                             que  \n",
       "148826                       new press  \n",
       "149220                       new press  \n",
       "149494            chronimed publishing  \n",
       "\n",
       "[569 rows x 10 columns]"
      ]
     },
     "execution_count": 152,
     "metadata": {},
     "output_type": "execute_result"
    }
   ],
   "source": [
    "# 내용물을 들여다 보는 코드 마지막으로 나라\n",
    "(books[books['publisher'].str.contains('reilly') \\\n",
    "\t# & (books['publisher'] != 'vintage books usa') \\\n",
    "\t& (books['publisher'] != 'wizards of the coast') \\\n",
    "\t& (books['publisher'] != 'dutton books') \\\n",
    "\t# & (books['publisher'] != 'performing arts') \\\n",
    "\t# & (books['category'].str.contains('dis') == True) \\\n",
    "\t# & (books['publisher'].str.contains('press') == False) \\\n",
    "\t])\\\n",
    "\t# .sample(10)"
   ]
  },
  {
   "cell_type": "code",
   "execution_count": 144,
   "metadata": {},
   "outputs": [],
   "source": [
    "# 치환 코드. 미국\n",
    "lst = ['dorling kindersley']\n",
    "lst = '|'.join(lst)\n",
    "books['publisher'].where(books['publisher'].str.contains(lst)==False, 'dorling kindersley', inplace=True)"
   ]
  },
  {
   "cell_type": "code",
   "execution_count": 154,
   "metadata": {},
   "outputs": [],
   "source": [
    "publishing = pd.DataFrame(books['publisher'].value_counts()).reset_index()\n",
    "publishing.columns = ['publisher','count']\n",
    "others_list = publishing[publishing['count']<5]['publisher'].values\n",
    "books['publisher'].where(books['publisher'].isin(others_list) == False, 'others', inplace=True)"
   ]
  },
  {
   "cell_type": "code",
   "execution_count": 157,
   "metadata": {},
   "outputs": [
    {
     "data": {
      "text/plain": [
       "pocket                          7306\n",
       "bantam                          7177\n",
       "harlequin                       5317\n",
       "harpercollins                   5043\n",
       "st. martin's press              4043\n",
       "                                ... \n",
       "max hueber verlag                  5\n",
       "osterreichischer agrarverlag       5\n",
       "atlas                              5\n",
       "william rudolf sabbott             5\n",
       "ludwig, mã?â¼nchen                 5\n",
       "Name: publisher, Length: 753, dtype: int64"
      ]
     },
     "execution_count": 157,
     "metadata": {},
     "output_type": "execute_result"
    }
   ],
   "source": [
    "books['publisher'].value_counts()"
   ]
  },
  {
   "cell_type": "code",
   "execution_count": 160,
   "metadata": {},
   "outputs": [],
   "source": [
    "books.drop('ublisher', axis=1, inplace=True)"
   ]
  },
  {
   "cell_type": "code",
   "execution_count": 4,
   "metadata": {},
   "outputs": [
    {
     "name": "stdout",
     "output_type": "stream",
     "text": [
      "saving\n"
     ]
    }
   ],
   "source": [
    "#이제 오랜 시간은 그만. 그냥 파일로 저장하자.\n",
    "# !rm /opt/ml/input/code/books_puble.csv\n",
    "if not os.path.isfile('/opt/ml/input/code/books_publeno.csv'):\n",
    "\tprint('saving')\n",
    "\tbooks.to_csv('/opt/ml/input/code/books_publeno.csv', index=False)"
   ]
  },
  {
   "cell_type": "code",
   "execution_count": null,
   "metadata": {},
   "outputs": [],
   "source": []
  }
 ],
 "metadata": {
  "kernelspec": {
   "display_name": "Python 3.8.5 ('base')",
   "language": "python",
   "name": "python3"
  },
  "language_info": {
   "codemirror_mode": {
    "name": "ipython",
    "version": 3
   },
   "file_extension": ".py",
   "mimetype": "text/x-python",
   "name": "python",
   "nbconvert_exporter": "python",
   "pygments_lexer": "ipython3",
   "version": "3.8.5"
  },
  "orig_nbformat": 4,
  "vscode": {
   "interpreter": {
    "hash": "d4d1e4263499bec80672ea0156c357c1ee493ec2b1c70f0acce89fc37c4a6abe"
   }
  }
 },
 "nbformat": 4,
 "nbformat_minor": 2
}
