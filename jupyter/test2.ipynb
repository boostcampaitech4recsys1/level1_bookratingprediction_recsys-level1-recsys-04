{
 "cells": [
  {
   "cell_type": "code",
   "execution_count": 1,
   "metadata": {},
   "outputs": [
    {
     "name": "stdout",
     "output_type": "stream",
     "text": [
      "users shape:  (68092, 3)\n",
      "Index(['user_id', 'location', 'age'], dtype='object')\n",
      "books shape:  (149570, 10)\n",
      "Index(['isbn', 'book_title', 'book_author', 'year_of_publication', 'publisher',\n",
      "       'img_url', 'language', 'category', 'summary', 'img_path'],\n",
      "      dtype='object')\n",
      "train shape:  (306795, 3)\n",
      "Index(['user_id', 'isbn', 'rating'], dtype='object')\n"
     ]
    }
   ],
   "source": [
    "import pandas as pd\n",
    "import numpy as np\n",
    "import seaborn as sns\n",
    "import matplotlib.pyplot as plt\n",
    "import os\n",
    "import re\n",
    "path = './data/'\n",
    "p1= pd.read_csv(path+'users.csv')\n",
    "p2= pd.read_csv(path+'books.csv')\n",
    "p3= pd.read_csv(path+'train_ratings.csv')\n",
    "p4= pd.read_csv(path+'sample_submission.csv')\n",
    "p5= pd.read_csv(path+'test_ratings.csv') # test와 sample은 완벽하게 동일하다.\n",
    "users  =p1\n",
    "books  =p2\n",
    "train  =p3\n",
    "sample =p4\n",
    "test   =p5\n",
    "\n",
    "print('users shape: ', users.shape) \n",
    "print(users.columns)#유저id, 지역, 나이\n",
    "print('books shape: ', books.shape)\n",
    "print(books.columns)#isbn(책번호), 제목, 저자, 출판년도, 출판사, img주소, 언어, 범주, 요약, img경로\n",
    "print('train shape: ', train.shape) \n",
    "print(train.columns)# 유저 id, 책isbn, 평점"
   ]
  },
  {
   "cell_type": "code",
   "execution_count": 2,
   "metadata": {},
   "outputs": [
    {
     "name": "stdout",
     "output_type": "stream",
     "text": [
      "user_id     68092\n",
      "location    18368\n",
      "age            91\n",
      "dtype: int64\n",
      "<class 'pandas.core.frame.DataFrame'>\n",
      "RangeIndex: 68092 entries, 0 to 68091\n",
      "Data columns (total 3 columns):\n",
      " #   Column    Non-Null Count  Dtype  \n",
      "---  ------    --------------  -----  \n",
      " 0   user_id   68092 non-null  int64  \n",
      " 1   location  68092 non-null  object \n",
      " 2   age       40259 non-null  float64\n",
      "dtypes: float64(1), int64(1), object(1)\n",
      "memory usage: 1.6+ MB\n",
      "None\n",
      "             user_id           age\n",
      "count   68092.000000  40259.000000\n",
      "mean   139381.329539     36.069873\n",
      "std     80523.969862     13.842571\n",
      "min         8.000000      5.000000\n",
      "25%     69008.750000     25.000000\n",
      "50%    138845.500000     34.000000\n",
      "75%    209388.250000     45.000000\n",
      "max    278854.000000     99.000000\n"
     ]
    }
   ],
   "source": [
    "print(users.nunique()) \n",
    "#유저 자체는 중복이 없고, 지역과 나이는 중복이 많다.\n",
    "print(users.info())\n",
    "# 지역에 0에 결측이 없다는 듯 말하지만 밑에 돌려보면 있다.\n",
    "# 나이는 2만 정도 결측.\n",
    "print(users.describe())\n",
    "#id에 평균이니 뭐니는 쓸모 없다...만 최소가 0이 아니니 번호 내에 빈 값이 존재하긴 한다.\n",
    "#평균 나이는 36. 이후에 그래프로 보면 더 나을 듯. 5살과 99살도 있으니 연령대는 다양."
   ]
  },
  {
   "cell_type": "code",
   "execution_count": 7,
   "metadata": {},
   "outputs": [
    {
     "data": {
      "text/html": [
       "<div>\n",
       "<style scoped>\n",
       "    .dataframe tbody tr th:only-of-type {\n",
       "        vertical-align: middle;\n",
       "    }\n",
       "\n",
       "    .dataframe tbody tr th {\n",
       "        vertical-align: top;\n",
       "    }\n",
       "\n",
       "    .dataframe thead th {\n",
       "        text-align: right;\n",
       "    }\n",
       "</style>\n",
       "<table border=\"1\" class=\"dataframe\">\n",
       "  <thead>\n",
       "    <tr style=\"text-align: right;\">\n",
       "      <th></th>\n",
       "      <th>user_id</th>\n",
       "      <th>isbn</th>\n",
       "      <th>rating</th>\n",
       "    </tr>\n",
       "  </thead>\n",
       "  <tbody>\n",
       "    <tr>\n",
       "      <th>11128</th>\n",
       "      <td>108243</td>\n",
       "      <td>0439139597</td>\n",
       "      <td>9</td>\n",
       "    </tr>\n",
       "    <tr>\n",
       "      <th>36773</th>\n",
       "      <td>225595</td>\n",
       "      <td>0061056871</td>\n",
       "      <td>7</td>\n",
       "    </tr>\n",
       "    <tr>\n",
       "      <th>237796</th>\n",
       "      <td>70245</td>\n",
       "      <td>0525473386</td>\n",
       "      <td>10</td>\n",
       "    </tr>\n",
       "    <tr>\n",
       "      <th>172636</th>\n",
       "      <td>19760</td>\n",
       "      <td>0743400518</td>\n",
       "      <td>8</td>\n",
       "    </tr>\n",
       "    <tr>\n",
       "      <th>107109</th>\n",
       "      <td>189835</td>\n",
       "      <td>0140042407</td>\n",
       "      <td>2</td>\n",
       "    </tr>\n",
       "    <tr>\n",
       "      <th>3230</th>\n",
       "      <td>130258</td>\n",
       "      <td>0316735736</td>\n",
       "      <td>9</td>\n",
       "    </tr>\n",
       "    <tr>\n",
       "      <th>59509</th>\n",
       "      <td>23768</td>\n",
       "      <td>0151006725</td>\n",
       "      <td>7</td>\n",
       "    </tr>\n",
       "    <tr>\n",
       "      <th>57729</th>\n",
       "      <td>198711</td>\n",
       "      <td>0553269828</td>\n",
       "      <td>8</td>\n",
       "    </tr>\n",
       "    <tr>\n",
       "      <th>203779</th>\n",
       "      <td>252347</td>\n",
       "      <td>0380798913</td>\n",
       "      <td>7</td>\n",
       "    </tr>\n",
       "    <tr>\n",
       "      <th>107218</th>\n",
       "      <td>54997</td>\n",
       "      <td>3423202327</td>\n",
       "      <td>8</td>\n",
       "    </tr>\n",
       "  </tbody>\n",
       "</table>\n",
       "</div>"
      ],
      "text/plain": [
       "        user_id        isbn  rating\n",
       "11128    108243  0439139597       9\n",
       "36773    225595  0061056871       7\n",
       "237796    70245  0525473386      10\n",
       "172636    19760  0743400518       8\n",
       "107109   189835  0140042407       2\n",
       "3230     130258  0316735736       9\n",
       "59509     23768  0151006725       7\n",
       "57729    198711  0553269828       8\n",
       "203779   252347  0380798913       7\n",
       "107218    54997  3423202327       8"
      ]
     },
     "execution_count": 7,
     "metadata": {},
     "output_type": "execute_result"
    }
   ],
   "source": [
    "train.sample(10)"
   ]
  },
  {
   "cell_type": "code",
   "execution_count": 8,
   "metadata": {},
   "outputs": [
    {
     "data": {
      "image/png": "[encoded data removed]",
      "text/plain": [
       "<Figure size 640x480 with 1 Axes>"
      ]
     },
     "metadata": {},
     "output_type": "display_data"
    }
   ],
   "source": [
    "fig, ax = plt.subplots(1,1)\n",
    "\n",
    "tmp = train['rating'].value_counts().sort_index()\n",
    "ax.bar(tmp.index, tmp.values, color='green')\n",
    "ax.set_xticks(tmp.index)\n",
    "ax.set_xlabel('ratings')\n",
    "ax.set_ylabel('count')\n",
    "\n",
    "plt.show()"
   ]
  },
  {
   "cell_type": "markdown",
   "metadata": {},
   "source": [
    "8점을 준 사람이 굉장히 많다. 전반적으로 낮은 평점을 준 사람이 적은데, 이 사람들의 값을 이상치로 간주하고 생각을 해볼 수도 있다. 물론 한 사람이 다채롭게 평점을 줄 수 있으니 그러한 점도 고려해야 한다. "
   ]
  },
  {
   "cell_type": "code",
   "execution_count": 9,
   "metadata": {},
   "outputs": [
    {
     "name": "stdout",
     "output_type": "stream",
     "text": [
      "{11676: 5520, 98391: 4560, 189835: 1503, 153662: 1496, 23902: 956, 235105: 812, 76499: 810, 171118: 771, 16795: 760, 248718: 747}\n"
     ]
    },
    {
     "data": {
      "text/plain": [
       "0.05845923173454587"
      ]
     },
     "execution_count": 9,
     "metadata": {},
     "output_type": "execute_result"
    }
   ],
   "source": [
    "#series.loc[i:j] 이렇게 쓰라는데 뭐라는 거냐.\n",
    "print(train['user_id'].value_counts().iloc[:10].to_dict())\n",
    "train['user_id'].value_counts().iloc[:10].sum()/len(train)\n",
    "#수상할 정도로 책을 많이 읽은 사람들이 있다. 이 사람들은 뭔가 이상하다.\n",
    "#이 사람들의 평점을 알아보자"
   ]
  },
  {
   "cell_type": "code",
   "execution_count": 10,
   "metadata": {},
   "outputs": [
    {
     "data": {
      "image/png": "[encoded data removed]",
      "text/plain": [
       "<Figure size 640x480 with 1 Axes>"
      ]
     },
     "metadata": {},
     "output_type": "display_data"
    }
   ],
   "source": [
    "fig, ax = plt.subplots(1,1)\n",
    "\n",
    "top_n = 10\n",
    "tmp = train['user_id'].value_counts().iloc[:top_n].to_dict()\n",
    "tmp = train[train['user_id'].isin(tmp.keys())]['rating'].value_counts().sort_index()\n",
    "ax.bar(tmp.index, tmp.values, color='green')\n",
    "\n",
    "\n",
    "ax.set_xticks(tmp.index)\n",
    "ax.set_xlabel(f'ratings of top reader {top_n}')\n",
    "ax.set_ylabel('count')\n",
    "\n",
    "plt.show()\n",
    "#상위 5명이 주는 평점. 겉으로 봤을 때는, 전체적인 그림과 조금 다르다\n",
    "#그러나 5퍼센트 정도에 해당하는 값이며 어마무시하게 차이가 나는 것도 아니기에, 모델이 알아서 학습하도록 내버려두는 것도 괜찮을 것 같다.\n"
   ]
  },
  {
   "cell_type": "code",
   "execution_count": 64,
   "metadata": {},
   "outputs": [
    {
     "name": "stdout",
     "output_type": "stream",
     "text": [
      "count    306795.000000\n",
      "mean          7.069714\n",
      "std           2.433217\n",
      "Name: rating, dtype: float64\n",
      "count    17935.000000\n",
      "mean         7.211319\n",
      "std          2.494838\n",
      "Name: rating, dtype: float64\n"
     ]
    }
   ],
   "source": [
    "#혹시 모르니 평균으로도 확인해보자. \n",
    "\n",
    "print(train['rating'].describe()[:3])\n",
    "\n",
    "top_n = 10\n",
    "tmp = train['user_id'].value_counts().index[:top_n]\n",
    "tmp = train[train['user_id'].isin(tmp)]['rating']\n",
    "print(tmp.describe()[:3])\n",
    "#역시나 유의미한 특이점은 관찰되지 않는다."
   ]
  },
  {
   "cell_type": "code",
   "execution_count": 13,
   "metadata": {},
   "outputs": [],
   "source": [
    "# books.drop('img_path', axis=1, inplace=True)\n",
    "books.fillna('1', inplace=True)\n",
    "books.loc[books[books['category'].notnull()].index, 'category'] = \\\n",
    "\tbooks[books['category'].notnull()]['category'].apply(lambda x: re.sub('[\\W_]+',' ',x).strip())\n",
    "books['category'] = books['category'].str.lower()"
   ]
  },
  {
   "cell_type": "code",
   "execution_count": 47,
   "metadata": {},
   "outputs": [
    {
     "data": {
      "text/html": [
       "<div>\n",
       "<style scoped>\n",
       "    .dataframe tbody tr th:only-of-type {\n",
       "        vertical-align: middle;\n",
       "    }\n",
       "\n",
       "    .dataframe tbody tr th {\n",
       "        vertical-align: top;\n",
       "    }\n",
       "\n",
       "    .dataframe thead th {\n",
       "        text-align: right;\n",
       "    }\n",
       "</style>\n",
       "<table border=\"1\" class=\"dataframe\">\n",
       "  <thead>\n",
       "    <tr style=\"text-align: right;\">\n",
       "      <th></th>\n",
       "      <th>isbn</th>\n",
       "      <th>book_title</th>\n",
       "      <th>book_author</th>\n",
       "      <th>year_of_publication</th>\n",
       "      <th>publisher</th>\n",
       "      <th>language</th>\n",
       "      <th>category</th>\n",
       "      <th>summary</th>\n",
       "      <th>high_category</th>\n",
       "    </tr>\n",
       "  </thead>\n",
       "  <tbody>\n",
       "    <tr>\n",
       "      <th>89114</th>\n",
       "      <td>363087147X</td>\n",
       "      <td>Die groÃ?Â?e Liebe.</td>\n",
       "      <td>Hanns-Josef Ortheil</td>\n",
       "      <td>2003.0</td>\n",
       "      <td>Luchterhand Literaturverlag</td>\n",
       "      <td>de</td>\n",
       "      <td>san benedetto del tronto fernsehredakteur deut...</td>\n",
       "      <td>Ein deutscher TV-Redakteur und eine Meeresbiol...</td>\n",
       "      <td>others</td>\n",
       "    </tr>\n",
       "    <tr>\n",
       "      <th>147511</th>\n",
       "      <td>0135774780</td>\n",
       "      <td>The messenger's motives: Ethical problems of t...</td>\n",
       "      <td>John L Hulteng</td>\n",
       "      <td>1976.0</td>\n",
       "      <td>Prentice-Hall</td>\n",
       "      <td>en</td>\n",
       "      <td>journalistes déontologie</td>\n",
       "      <td>Examines more than 150 cases involving news me...</td>\n",
       "      <td>others</td>\n",
       "    </tr>\n",
       "  </tbody>\n",
       "</table>\n",
       "</div>"
      ],
      "text/plain": [
       "              isbn                                         book_title  \\\n",
       "89114   363087147X                                Die groÃ?Â?e Liebe.   \n",
       "147511  0135774780  The messenger's motives: Ethical problems of t...   \n",
       "\n",
       "                book_author  year_of_publication                    publisher  \\\n",
       "89114   Hanns-Josef Ortheil               2003.0  Luchterhand Literaturverlag   \n",
       "147511       John L Hulteng               1976.0                Prentice-Hall   \n",
       "\n",
       "       language                                           category  \\\n",
       "89114        de  san benedetto del tronto fernsehredakteur deut...   \n",
       "147511       en                           journalistes déontologie   \n",
       "\n",
       "                                                  summary high_category  \n",
       "89114   Ein deutscher TV-Redakteur und eine Meeresbiol...        others  \n",
       "147511  Examines more than 150 cases involving news me...        others  "
      ]
     },
     "execution_count": 47,
     "metadata": {},
     "output_type": "execute_result"
    }
   ],
   "source": [
    "# 내용물을 들여다 보는 코드\n",
    "(books[books['category'].str.contains('onto') \\\n",
    "\t# & (books['category'] != '') \\\n",
    "\t# & (books['category'] != 'self help') \\\n",
    "\t# & (books['category'].str.contains('men') == True) \\\n",
    "\t& (books['category'].str.contains('comic') == False) \\\n",
    "\t])\\\n",
    "\t# .sample(10)"
   ]
  },
  {
   "cell_type": "code",
   "execution_count": 25,
   "metadata": {},
   "outputs": [],
   "source": [
    "lst = {'juvenile':['juvenile', 'young adult'],\n",
    "\t'fiction':['fiction', 'businessmen', 'businesswomen'],\n",
    "\t'religion':['religion', 'christian', 'budd', 'arab', 'cath', 'bible', 'muslim', 'hind', 'church', 'pray', 'monk'],\n",
    "\t'biography':['biography'],\n",
    "\t'humor':['humor', 'fun', 'wit '],\n",
    "\t'meditation':['spirit', 'self', 'help'],\n",
    "\t'social':['soci', 'discrimination'],\n",
    "\t'politic':['policy', 'polit'],\n",
    "\t'computer':['comput'],\n",
    "\t'science':['science'],\n",
    "\t'economy':['business', 'economi'],\n",
    "\t'family':['family'],\n",
    "\t'health':['health', 'body'],\n",
    "\t'animal':['animal', 'pets', 'pet ', 'dog', 'cats', 'bird', 'insect', 'tiger', 'fish', 'amphibian', 'reptil', 'mamma', 'panda', 'bear', 'chick'],\n",
    "\t'nature':['nature', 'environ', 'plant', 'earth'],\n",
    "\t'history':['histo', 'folk'],\n",
    "\t'art':['art', 'music', 'draw'],\n",
    "\t'children':['child'],\n",
    "\t'poetry':['poet'],\n",
    "\t'drama':['drama', 'comedy', 'tragedy'],\n",
    "\t'literature':['litera'],\n",
    "\t'philosophy':['philo', 'ethic'],\n",
    "\t'cook':['cook', 'food'],\n",
    "\t'crime':['crim', 'homi', 'murder'],\n",
    "\t'photo':['photo'],\n",
    "\t'crafts':['craft', 'hand'],\n",
    "\t'garden':['garden'],\n",
    "\t'sports':['sports'],\n",
    "\t'travel':['travel'],\n",
    "\t'adventure':['adventure'],\n",
    "\t'psychology':['psycho'],\n",
    "\t'comic':['comic'],\n",
    "\t'education':['educ'],\n",
    "\t'mystery':['myster', 'detect'],\n",
    "\t'horror':['horror'],\n",
    "\t'law':['law'],\n",
    "\t'game':['game'],\n",
    "\t# 'country':['brita', 'engla', 'canada', 'africa', 'gree', 'asia', 'europ', 'nethe', 'korea','norwa', 'zeala', 'denmark', 'german', 'deutsch', 'russ', 'roman', 'mala', 'mexi','mong', 'viet', 'belg', 'braz', 'spain', 'singap', 'argen', 'irelan', 'austr','iran', 'isra', 'egyp', 'ital', 'india', 'indo', 'japan', 'china', 'chinese', 'portu','polan', 'fran', 'finlan', 'hunga']\n",
    "\t# 'america':['united', 'ameri']\n",
    "\t}"
   ]
  },
  {
   "cell_type": "code",
   "execution_count": 39,
   "metadata": {},
   "outputs": [],
   "source": [
    "books['high_category'] = books['category'].copy()\n",
    "# books.drop('high_catgory', axis=1, inplace=True)"
   ]
  },
  {
   "cell_type": "code",
   "execution_count": 41,
   "metadata": {},
   "outputs": [],
   "source": [
    "for i in lst:\n",
    "\ttmp = '|'.join(lst[i])\n",
    "\tbooks['high_category'].where(books['category'].str.contains(tmp)==False, i, inplace=True)"
   ]
  },
  {
   "cell_type": "code",
   "execution_count": 42,
   "metadata": {},
   "outputs": [
    {
     "data": {
      "text/plain": [
       "1                                       68851\n",
       "fiction                                 41067\n",
       "biography                                3351\n",
       "science                                  2429\n",
       "religion                                 2133\n",
       "                                        ...  \n",
       "gulliver lemuel fictitious character        1\n",
       "civilization western                        1\n",
       "mathematicians                              1\n",
       "tyrol austria                               1\n",
       "deafness                                    1\n",
       "Name: high_category, Length: 2964, dtype: int64"
      ]
     },
     "execution_count": 42,
     "metadata": {},
     "output_type": "execute_result"
    }
   ],
   "source": [
    "books['high_category'].value_counts()"
   ]
  },
  {
   "cell_type": "code",
   "execution_count": 43,
   "metadata": {},
   "outputs": [],
   "source": [
    "category_high_df = pd.DataFrame(books['high_category'].value_counts()).reset_index()\n",
    "category_high_df.columns = ['category','count']\n",
    "others_list = category_high_df[category_high_df['count']<5]['category'].values\n",
    "books['high_category'].where(books['high_category'].isin(others_list) == False, 'others', inplace=True)"
   ]
  },
  {
   "cell_type": "code",
   "execution_count": 45,
   "metadata": {},
   "outputs": [
    {
     "data": {
      "text/plain": [
       "1                  68851\n",
       "fiction            41067\n",
       "others              3784\n",
       "biography           3351\n",
       "science             2429\n",
       "                   ...  \n",
       "cruise ships           5\n",
       "missing persons        5\n",
       "success                5\n",
       "abduction              5\n",
       "ethics                 5\n",
       "Name: high_category, Length: 373, dtype: int64"
      ]
     },
     "execution_count": 45,
     "metadata": {},
     "output_type": "execute_result"
    }
   ],
   "source": [
    "books['high_category'].value_counts()"
   ]
  },
  {
   "cell_type": "code",
   "execution_count": 49,
   "metadata": {},
   "outputs": [
    {
     "name": "stdout",
     "output_type": "stream",
     "text": [
      "saving\n"
     ]
    }
   ],
   "source": [
    "#이제 오랜 시간은 그만. 그냥 파일로 저장하자.\n",
    "!rm /opt/ml/input/code/books_clustering.csv\n",
    "if not os.path.isfile('/opt/ml/input/code/books_clustering.csv'):\n",
    "\tprint('saving')\n",
    "\tbooks.to_csv('/opt/ml/input/code/books_clustering.csv', index=False)"
   ]
  },
  {
   "cell_type": "code",
   "execution_count": null,
   "metadata": {},
   "outputs": [],
   "source": []
  }
 ],
 "metadata": {
  "kernelspec": {
   "display_name": "Python 3.8.5 ('base')",
   "language": "python",
   "name": "python3"
  },
  "language_info": {
   "codemirror_mode": {
    "name": "ipython",
    "version": 3
   },
   "file_extension": ".py",
   "mimetype": "text/x-python",
   "name": "python",
   "nbconvert_exporter": "python",
   "pygments_lexer": "ipython3",
   "version": "3.8.5"
  },
  "orig_nbformat": 4,
  "vscode": {
   "interpreter": {
    "hash": "d4d1e4263499bec80672ea0156c357c1ee493ec2b1c70f0acce89fc37c4a6abe"
   }
  }
 },
 "nbformat": 4,
 "nbformat_minor": 2
}
